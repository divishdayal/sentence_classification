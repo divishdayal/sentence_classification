{
 "cells": [
  {
   "cell_type": "code",
   "execution_count": null,
   "metadata": {
    "collapsed": true
   },
   "outputs": [],
   "source": [
    "import pandas as pd\n",
    "import numpy as np \n",
    "import csv, re\n",
    "import itertools"
   ]
  },
  {
   "cell_type": "code",
   "execution_count": null,
   "metadata": {
    "collapsed": true
   },
   "outputs": [],
   "source": [
    "f = open(\"dictionary.txt\",'r')"
   ]
  },
  {
   "cell_type": "code",
   "execution_count": null,
   "metadata": {},
   "outputs": [],
   "source": [
    "x = []\n",
    "reader = csv.reader(f)"
   ]
  },
  {
   "cell_type": "code",
   "execution_count": null,
   "metadata": {
    "collapsed": true
   },
   "outputs": [],
   "source": [
    "x = []\n",
    "reader = csv.reader(f)\n",
    "for row in reader : \n",
    "    x.append(row)"
   ]
  },
  {
   "cell_type": "code",
   "execution_count": null,
   "metadata": {},
   "outputs": [],
   "source": [
    "x"
   ]
  },
  {
   "cell_type": "code",
   "execution_count": null,
   "metadata": {},
   "outputs": [],
   "source": [
    "dict = {}\n",
    "x_final = []\n",
    "for row in x:\n",
    "    s = ''.join(row)\n",
    "    #print(s)\n",
    "    phrase, id = s.split(\"|\")\n",
    "    id = int(id)\n",
    "    print(id,phrase)\n",
    "    x_final.append(phrase)\n",
    "    dict[id] = phrase\n",
    "    "
   ]
  },
  {
   "cell_type": "code",
   "execution_count": null,
   "metadata": {},
   "outputs": [],
   "source": [
    "dict[22936]"
   ]
  },
  {
   "cell_type": "code",
   "execution_count": null,
   "metadata": {},
   "outputs": [],
   "source": [
    "cl = open(\"sentiment_labels.txt\",'r')\n",
    "read = csv.reader(cl)"
   ]
  },
  {
   "cell_type": "code",
   "execution_count": null,
   "metadata": {},
   "outputs": [],
   "source": [
    "y = []\n",
    "for row in read : \n",
    "    y.append(row)\n",
    "y"
   ]
  },
  {
   "cell_type": "code",
   "execution_count": null,
   "metadata": {},
   "outputs": [],
   "source": [
    "del(int)"
   ]
  },
  {
   "cell_type": "code",
   "execution_count": null,
   "metadata": {},
   "outputs": [],
   "source": [
    "dict_sent = {}\n",
    "y = []\n",
    "for row in read : \n",
    "    y.append(row)\n",
    "for row in y : \n",
    "    s = row[0]\n",
    "    id_y, value = s.split(\"|\")\n",
    "    #print(id_y)\n",
    "    try:\n",
    "        new_id_y = int(id_y)\n",
    "        dict_sent[new_id_y] = value\n",
    "    except Exception as e : \n",
    "        print(e,id_y)\n",
    "    print(id_y, value)"
   ]
  },
  {
   "cell_type": "code",
   "execution_count": null,
   "metadata": {},
   "outputs": [],
   "source": [
    "y_final = []\n",
    "#dict_sent[22935]\n",
    "for x in dict : \n",
    "    #print(x)\n",
    "    y_final.append(dict_sent[x])"
   ]
  },
  {
   "cell_type": "code",
   "execution_count": null,
   "metadata": {},
   "outputs": [],
   "source": [
    "x_final = []\n",
    "for x in dict : \n",
    "    x_final.append(dict[x])"
   ]
  },
  {
   "cell_type": "code",
   "execution_count": null,
   "metadata": {},
   "outputs": [],
   "source": [
    "x_final"
   ]
  },
  {
   "cell_type": "code",
   "execution_count": null,
   "metadata": {
    "collapsed": true
   },
   "outputs": [],
   "source": [
    "def clean_str(string):\n",
    "    \"\"\"\n",
    "    Tokenization/string cleaning for all datasets except for SST.\n",
    "    Original taken from https://github.com/yoonkim/CNN_sentence/blob/master/process_data.py\n",
    "    \"\"\"\n",
    "    string = re.sub(r\"[^A-Za-z0-9(),!?\\'\\`]\", \" \", string)\n",
    "    string = re.sub(r\"\\'s\", \" \\'s\", string)\n",
    "    string = re.sub(r\"\\'ve\", \" \\'ve\", string)\n",
    "    string = re.sub(r\"n\\'t\", \" n\\'t\", string)\n",
    "    string = re.sub(r\"\\'re\", \" \\'re\", string)\n",
    "    string = re.sub(r\"\\'d\", \" \\'d\", string)\n",
    "    string = re.sub(r\"\\'ll\", \" \\'ll\", string)\n",
    "    string = re.sub(r\",\", \" , \", string)\n",
    "    string = re.sub(r\"!\", \" ! \", string)\n",
    "    string = re.sub(r\"\\(\", \" \\( \", string)\n",
    "    string = re.sub(r\"\\)\", \" \\) \", string)\n",
    "    string = re.sub(r\"\\?\", \" \\? \", string)\n",
    "    string = re.sub(r\"\\s{2,}\", \" \", string)\n",
    "    return string.strip().lower()"
   ]
  },
  {
   "cell_type": "code",
   "execution_count": null,
   "metadata": {},
   "outputs": [],
   "source": [
    "    x_text = map(clean_str,x_final)\n",
    "    x_text = list(x_text)\n",
    "    x_text = [s.split(\" \") for s in x_text]"
   ]
  },
  {
   "cell_type": "code",
   "execution_count": null,
   "metadata": {
    "collapsed": true
   },
   "outputs": [],
   "source": [
    "def pad_sentences(sentences, padding_word=\"<PAD/>\"):\n",
    "    \"\"\"\n",
    "        Pads all sentences to the same length. The length is defined by the longest sentence.\n",
    "        Returns padded sentences.\n",
    "        \"\"\"\n",
    "    sequence_length = max(len(x) for x in sentences)\n",
    "    print (\"sequence_length: \" + str(sequence_length))\n",
    "    padded_sentences = []\n",
    "    for i in range(len(sentences)):\n",
    "        sentence = sentences[i]\n",
    "        num_padding = sequence_length - len(sentence)\n",
    "        new_sentence = sentence + [padding_word] * num_padding\n",
    "        padded_sentences.append(new_sentence)\n",
    "    return padded_sentences"
   ]
  },
  {
   "cell_type": "code",
   "execution_count": null,
   "metadata": {},
   "outputs": [],
   "source": [
    "sentences_padded = pad_sentences(x_text)"
   ]
  },
  {
   "cell_type": "code",
   "execution_count": null,
   "metadata": {},
   "outputs": [],
   "source": [
    "sentences_padded"
   ]
  },
  {
   "cell_type": "code",
   "execution_count": null,
   "metadata": {
    "collapsed": true
   },
   "outputs": [],
   "source": [
    "def load_data_labels() : \n",
    "    f = open(\"dictionary.txt\",'r')\n",
    "    x = []\n",
    "    reader = csv.reader(f)\n",
    "    for row in reader : \n",
    "        x.append(row)\n",
    "    dict = {}\n",
    "    x_final = []\n",
    "    for row in x:\n",
    "        s = ''.join(row)\n",
    "        phrase, id = s.split(\"|\")\n",
    "        id = int(id)\n",
    "        x_final.append(phrase)\n",
    "        dict[id] = phrase\n",
    "    cl = open(\"sentiment_labels.txt\",'r')\n",
    "    read = csv.reader(cl)\n",
    "    dict_sent = {}\n",
    "    y = []\n",
    "    for row in read : \n",
    "        y.append(row)\n",
    "    for row in y : \n",
    "        s = row[0]\n",
    "        id_y, value = s.split(\"|\")\n",
    "        try:\n",
    "            new_id_y = int(id_y)\n",
    "            dict_sent[new_id_y] = value\n",
    "        except Exception as e : \n",
    "            print(e,id_y)\n",
    "    y_final = []\n",
    "    for x in dict : \n",
    "        y_final.append(dict_sent[x])\n",
    "    x_final = []\n",
    "    for x in dict : \n",
    "        x_final.append(dict[x])\n",
    "    return y_final\n"
   ]
  },
  {
   "cell_type": "code",
   "execution_count": null,
   "metadata": {},
   "outputs": [],
   "source": [
    "y = load_data_labels()"
   ]
  },
  {
   "cell_type": "code",
   "execution_count": 142,
   "metadata": {},
   "outputs": [],
   "source": [
    "y_final = list(map(float,y_final))"
   ]
  },
  {
   "cell_type": "code",
   "execution_count": 143,
   "metadata": {},
   "outputs": [
    {
     "data": {
      "text/plain": [
       "[0.5, 0.52778, 0.5, 0.44444, 0.86111]"
      ]
     },
     "execution_count": 143,
     "metadata": {},
     "output_type": "execute_result"
    }
   ],
   "source": [
    "y_final[:5]"
   ]
  },
  {
   "cell_type": "code",
   "execution_count": null,
   "metadata": {
    "collapsed": true
   },
   "outputs": [],
   "source": [
    "x_text = map(clean_str,x_final)\n",
    "x_text = list(x_text)\n",
    "x_text = [s.split(\" \") for s in x_text]"
   ]
  },
  {
   "cell_type": "code",
   "execution_count": null,
   "metadata": {},
   "outputs": [],
   "source": [
    "x_text      #list of sentences"
   ]
  },
  {
   "cell_type": "code",
   "execution_count": null,
   "metadata": {
    "collapsed": true
   },
   "outputs": [],
   "source": [
    "w2v = open(\"GoogleNews-vectors-negative300-SLIM.bin\",\"rb\")"
   ]
  },
  {
   "cell_type": "code",
   "execution_count": null,
   "metadata": {},
   "outputs": [],
   "source": [
    "from gensim.models import Word2Vec\n",
    "from gensim.models import KeyedVectors\n"
   ]
  },
  {
   "cell_type": "code",
   "execution_count": null,
   "metadata": {},
   "outputs": [],
   "source": [
    "model = KeyedVectors.load_word2vec_format(w2v,binary = True)"
   ]
  },
  {
   "cell_type": "code",
   "execution_count": null,
   "metadata": {},
   "outputs": [],
   "source": [
    "random_words_dic = {}\n",
    "\n",
    "def query(word) : \n",
    "    \n",
    "    result = None\n",
    "    try : \n",
    "        result = model[word] \n",
    "    except:\n",
    "        \n",
    "        if word in random_words_dic : \n",
    "            result = random_words_dic[word]\n",
    "        else : \n",
    "            #print (word,\"Does'nt exist.\")\n",
    "            result = np.random.uniform(-1.0,1.0,300)\n",
    "            random_words_dic[word] = result\n",
    "    return result"
   ]
  },
  {
   "cell_type": "code",
   "execution_count": 174,
   "metadata": {},
   "outputs": [],
   "source": [
    "#max_sentence_length = max(len(x) for x in x_text)\n",
    "max_sentence_length = 53\n",
    "\n",
    "def gen_sentence_matrix(sentence_array) : \n",
    "    sentence_matrix = np.zeros(shape = (300,max_sentence_length))\n",
    "    for i,word in enumerate(sentence_array) : \n",
    "        word_vector = query(word)\n",
    "        sentence_matrix[:, i] = word_vector\n",
    "    return sentence_matrix"
   ]
  },
  {
   "cell_type": "code",
   "execution_count": 216,
   "metadata": {},
   "outputs": [],
   "source": [
    "def batch_input_matrix(batch_size):\n",
    "    for i in range(0,len(x_text),batch_size):\n",
    "        end_index = min(i+batch_size,len(x_text))\n",
    "        batch_sentences = x_text[i:end_index]\n",
    "        batch_labels = np.array(y_final[i:end_index])\n",
    "        batch_matrix = np.array([gen_sentence_matrix(sentence) for sentence in batch_sentences])\n",
    "        #channels = 1\n",
    "        batch_matrix = batch_matrix.reshape(16,53,300)\n",
    "        batch_matrix = batch_matrix.reshape(16,53,300,-1)\n",
    "        yield batch_matrix,batch_labels"
   ]
  },
  {
   "cell_type": "code",
   "execution_count": 217,
   "metadata": {},
   "outputs": [],
   "source": [
    "test_batch = batch_input_matrix(16)\n"
   ]
  },
  {
   "cell_type": "code",
   "execution_count": 218,
   "metadata": {},
   "outputs": [
    {
     "name": "stdout",
     "output_type": "stream",
     "text": [
      "(16, 53, 300, 1) [0.5     0.52778 0.5     0.44444 0.86111 0.93056 1.      0.47222 0.76389\n",
      " 0.27778 0.5     0.43056 0.5     0.22222 0.55556 0.77778]\n"
     ]
    }
   ],
   "source": [
    "for batch,labels in test_batch:\n",
    "    print (batch.shape,labels)\n",
    "    break"
   ]
  },
  {
   "cell_type": "code",
   "execution_count": 219,
   "metadata": {},
   "outputs": [],
   "source": [
    "from keras.models import Model\n",
    "from keras.layers import Input, Dense"
   ]
  },
  {
   "cell_type": "code",
   "execution_count": 220,
   "metadata": {
    "collapsed": true
   },
   "outputs": [],
   "source": [
    "from keras.models import Sequential\n",
    "from keras.layers import *\n",
    "from keras.optimizers import SGD\n",
    "from keras.initializers import RandomNormal"
   ]
  },
  {
   "cell_type": "code",
   "execution_count": 221,
   "metadata": {},
   "outputs": [],
   "source": [
    "batch_size = 16\n",
    "model = Sequential()\n",
    "model.add(Conv2D(50, kernel_initializer = RandomNormal(mean = 0.0,stddev = 0.01), kernel_size=(4, 5), strides=(1, 1),\n",
    "                 input_shape=(53,300,1)))\n"
   ]
  },
  {
   "cell_type": "code",
   "execution_count": null,
   "metadata": {},
   "outputs": [
    {
     "name": "stdout",
     "output_type": "stream",
     "text": [
      "Epoch 1/1\n",
      "   42/14952 [..............................] - ETA: 10:35:50 - loss: 0.1117 - acc: 0.0015"
     ]
    }
   ],
   "source": [
    "model.add(PReLU(alpha_initializer='zeros', alpha_regularizer=None, alpha_constraint=None, shared_axes=None))\n",
    "model.add(Dropout(0.5))\n",
    "model.add(MaxPooling2D(pool_size=(2, 2), strides=(2,2), padding='valid'))\n",
    "model.add(BatchNormalization())\n",
    "\n",
    "\n",
    "model.add(Conv2D(100, kernel_size=(5, 6), strides=(1,1)))\n",
    "model.add(PReLU(alpha_initializer='zeros', alpha_regularizer=None, alpha_constraint=None, shared_axes=None))\n",
    "model.add(Dropout(0.5))\n",
    "model.add(MaxPooling2D(pool_size=(2, 2), strides=(2,2), padding='valid'))\n",
    "model.add(BatchNormalization())\n",
    "\n",
    "model.add(Conv2D(100, kernel_size=(2, 2), strides=(1,1)))\n",
    "model.add(PReLU(alpha_initializer='zeros', alpha_regularizer=None, alpha_constraint=None, shared_axes=None))\n",
    "model.add(Dropout(0.5))\n",
    "model.add(MaxPooling2D(pool_size=(2, 2), strides=(2,2), padding='valid'))\n",
    "model.add(BatchNormalization())\n",
    "\n",
    "model.add(Flatten())\n",
    "model.add(Dense(64))\n",
    "\n",
    "model.add(Dense(1,activation = \"sigmoid\"))\n",
    "\n",
    "model.compile(loss=\"mean_squared_error\",\n",
    "             optimizer=SGD(lr=0.001,decay = 0.000125,momentum = 0.9),\n",
    "             metrics=['accuracy'])\n",
    "model.fit_generator(test_batch,steps_per_epoch = len(x_text)/batch_size)"
   ]
  },
  {
   "cell_type": "code",
   "execution_count": null,
   "metadata": {
    "collapsed": true
   },
   "outputs": [],
   "source": [
    "\n",
    "\n"
   ]
  }
 ],
 "metadata": {
  "kernelspec": {
   "display_name": "Python 3",
   "language": "python",
   "name": "python3"
  },
  "language_info": {
   "codemirror_mode": {
    "name": "ipython",
    "version": 3
   },
   "file_extension": ".py",
   "mimetype": "text/x-python",
   "name": "python",
   "nbconvert_exporter": "python",
   "pygments_lexer": "ipython3",
   "version": "3.6.3"
  }
 },
 "nbformat": 4,
 "nbformat_minor": 2
}
